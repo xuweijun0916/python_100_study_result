{
 "cells": [
  {
   "cell_type": "code",
   "execution_count": 1,
   "metadata": {},
   "outputs": [
    {
     "name": "stdout",
     "output_type": "stream",
     "text": [
      "开始下载Python从入门到zhyua.pdf\n",
      "Python从入门到zhyua.pdf下载完成!耗时7秒\n",
      "开始下载Peking Hot.avi\n",
      "Peking Hot.avi下载完成!耗时6秒\n",
      "总耗费13.000598192214966秒\n"
     ]
    }
   ],
   "source": [
    "# 用一个下载文件的例子来说明使用多进程和不使用多进程到底有什么差别\n",
    "from random import randint\n",
    "from time import time, sleep\n",
    "\n",
    "def download_task(filename):\n",
    "    print(f'开始下载{filename}')\n",
    "    time_to_download = randint(5, 10)\n",
    "    sleep(time_to_download)\n",
    "    print(f'{filename}下载完成!耗时{time_to_download}秒')\n",
    "    \n",
    "def main():\n",
    "    start = time()\n",
    "    download_task('Python从入门到zhyua.pdf')\n",
    "    download_task('Peking Hot.avi')\n",
    "    end = time()\n",
    "    print(f'总耗费{end - start}秒')\n",
    "    \n",
    "if __name__ == '__main__':\n",
    "    main()"
   ]
  },
  {
   "cell_type": "code",
   "execution_count": 11,
   "metadata": {},
   "outputs": [
    {
     "name": "stdout",
     "output_type": "stream",
     "text": [
      "共耗费了0.10970807075500488秒\n"
     ]
    }
   ],
   "source": [
    "# 使用多进程的方式将两个下载任务放到不同进程中\n",
    "from multiprocessing import Process\n",
    "from os import getpid\n",
    "from random import randint\n",
    "from time import time,sleep\n",
    "\n",
    "def download_task(filename):\n",
    "    print(f'启动下载进程，进程号{getpid()}')\n",
    "    print(f'开始下载{filename}...')\n",
    "    time_to_download = randint(5,10)\n",
    "    sleep(time_to_download)\n",
    "    print('{filename}下载完成！耗费了{time_to_download}秒')\n",
    "    \n",
    "def main():\n",
    "    start = time()\n",
    "    p1 = Process(target=download_task, args=('Python从入门到住院.pdf',))\n",
    "    p1.start()\n",
    "    p2 = Process(target=download_task,args=('Peing Hot.avi',))\n",
    "    p2.start()\n",
    "    p1.join()\n",
    "    p2.join()\n",
    "    end = time()\n",
    "    print(f'共耗费了{end-start}秒')\n",
    "    \n",
    "if __name__ == '__main__':\n",
    "    main()"
   ]
  },
  {
   "cell_type": "code",
   "execution_count": 14,
   "metadata": {},
   "outputs": [],
   "source": [
    "from multiprocessing import Process\n",
    "from time import sleep\n",
    "\n",
    "counter = 0\n",
    "\n",
    "def sub_task(string):\n",
    "    global counter\n",
    "    while counter < 10:\n",
    "        print(string, end='', flush = True)\n",
    "        counter += 1\n",
    "        sleep(0.01)\n",
    "        \n",
    "def main():\n",
    "    Process(target=sub_task, args=('Ping',)).start()\n",
    "    Process(target=sub_task,args=('pong',)).start()\n",
    "    \n",
    "if __name__ == '__main__':\n",
    "    main()"
   ]
  },
  {
   "cell_type": "code",
   "execution_count": 15,
   "metadata": {},
   "outputs": [
    {
     "name": "stdout",
     "output_type": "stream",
     "text": [
      "开始下载Python从入门到住院.pdf开始下载Peking Hot.avi\n",
      "\n",
      "Python从入门到住院.pdf下载完了！耗费了6\n",
      "Peking Hot.avi下载完了！耗费了8\n",
      "总共花费了8.02104663848877秒\n"
     ]
    }
   ],
   "source": [
    "# 使用多线程实现下载文件的例子\n",
    "from random import randint\n",
    "from threading import Thread\n",
    "from time import time,sleep\n",
    "\n",
    "def download(filename):\n",
    "    print(f'开始下载{filename}')\n",
    "    time_to_download = randint(5,10)\n",
    "    sleep(time_to_download)\n",
    "    print(f'{filename}下载完了！耗费了{time_to_download}')\n",
    "    \n",
    "def main():\n",
    "    start = time()\n",
    "    t1 = Thread(target=download, args=('Python从入门到住院.pdf',))\n",
    "    t1.start()\n",
    "    t2 = Thread(target=download, args=('Peking Hot.avi',))\n",
    "    t2.start()\n",
    "    t1.join()\n",
    "    t2.join()\n",
    "    end = time()\n",
    "    print(f'总共花费了{end - start}秒')\n",
    "    \n",
    "if __name__ == '__main__':\n",
    "    main()"
   ]
  },
  {
   "cell_type": "code",
   "execution_count": 18,
   "metadata": {},
   "outputs": [
    {
     "name": "stdout",
     "output_type": "stream",
     "text": [
      "开始下载Python从入门到zhuyuan.pdf\n",
      "开始下载Peking Hot.avi\n",
      "Python从入门到zhuyuan.pdf下载完了！耗费了7秒\n",
      "Peking Hot.avi下载完了！耗费了9秒\n",
      "总共花费了9.019232749938965秒\n"
     ]
    }
   ],
   "source": [
    "# 通过继承Thread类的方式来创建自定义的线程类，然后再创建线程对象并启动线程。代码如下所示。\n",
    "from random import randint\n",
    "from threading import Thread\n",
    "from time import time,sleep\n",
    "\n",
    "class DownloadTask(Thread):\n",
    "    def __init__(self,filename):\n",
    "        super().__init__()\n",
    "        self._filename = filename\n",
    "    \n",
    "    def run(self):\n",
    "        print(f'开始下载{self._filename}')\n",
    "        time_to_download = randint(5,10)\n",
    "        sleep(time_to_download)\n",
    "        print(f'{self._filename}下载完了！耗费了{time_to_download}秒')\n",
    "\n",
    "def main():\n",
    "    start = time()\n",
    "    t1 = DownloadTask('Python从入门到zhuyuan.pdf')\n",
    "    t1.start()\n",
    "    t2 = DownloadTask('Peking Hot.avi')\n",
    "    t2.start()\n",
    "    t1.join()\n",
    "    t2.join()\n",
    "    end = time()\n",
    "    print(f'总共花费了{end - start}秒')\n",
    "    \n",
    "if __name__ == '__main__':\n",
    "    main()"
   ]
  },
  {
   "cell_type": "code",
   "execution_count": 26,
   "metadata": {},
   "outputs": [
    {
     "name": "stdout",
     "output_type": "stream",
     "text": [
      "账户余额为2\n"
     ]
    }
   ],
   "source": [
    "# 100个线程向同一个银行账户转账\n",
    "from time import sleep\n",
    "from threading import Thread\n",
    "\n",
    "class Account:\n",
    "    def __init__(self):\n",
    "        self._balance = 0\n",
    "    \n",
    "    def deposit(self, money):\n",
    "        #计算存款后的余额\n",
    "        new_balance = self._balance + money\n",
    "        # 模拟存款业务需要0.01秒时间\n",
    "        sleep(0.01)\n",
    "        # 修改账户存款\n",
    "        self._balance = new_balance\n",
    "        \n",
    "    @property\n",
    "    def balance(self):\n",
    "        return self._balance\n",
    "    \n",
    "class AddMoneyThread(Thread):\n",
    "    def __init__(self, account, money):\n",
    "        super().__init__()\n",
    "        self._account = account\n",
    "        self._money = money\n",
    "        \n",
    "    def run(self):\n",
    "        self._account.deposit(self._money)\n",
    "        \n",
    "def main():\n",
    "    account = Account()\n",
    "    threads = []\n",
    "    # 创建100个存款的线程向同一个账户中存钱\n",
    "    for _ in range(100):\n",
    "        t = AddMoneyThread(account,1)\n",
    "        threads.append(t)\n",
    "        t.start()\n",
    "        \n",
    "    # 等所有存款的线程都执行完毕\n",
    "    for t in threads:\n",
    "        t.join()\n",
    "    print(f'账户余额为{account.balance}')\n",
    "    \n",
    "if __name__ == '__main__':\n",
    "    main()"
   ]
  },
  {
   "cell_type": "code",
   "execution_count": 30,
   "metadata": {},
   "outputs": [
    {
     "name": "stdout",
     "output_type": "stream",
     "text": [
      "账户余额为100\n"
     ]
    }
   ],
   "source": [
    "# 使用锁来保护临界资源账户\n",
    "from time import sleep\n",
    "from threading import Thread,Lock\n",
    "\n",
    "class Account:\n",
    "    def __init__(self):\n",
    "        self._balance = 0\n",
    "        self._lock = Lock()\n",
    "        \n",
    "    def deposit(self,money):\n",
    "        #先获取锁才能执行后续的代码\n",
    "        self._lock.acquire()\n",
    "        try:\n",
    "            new_balance = self._balance + money\n",
    "            sleep(0.01)\n",
    "            self._balance = new_balance\n",
    "            \n",
    "        finally:\n",
    "            # 在finally中执行释放锁的操作，保证正常异常锁都能释放\n",
    "            self._lock.release()\n",
    "            \n",
    "    @property\n",
    "    def balance(self):\n",
    "        return self._balance\n",
    "    \n",
    "class AddMoneyThread(Thread):\n",
    "    def __init__(self, account, money):\n",
    "        super().__init__()\n",
    "        self._account = account\n",
    "        self._money = money\n",
    "        \n",
    "    def run(self):\n",
    "        self._account.deposit(self._money)\n",
    "        \n",
    "def main():\n",
    "    account = Account()\n",
    "    threads = []\n",
    "    # 创建100个存款的线程向同一个账户中存钱\n",
    "    for _ in range(100):\n",
    "        t = AddMoneyThread(account,1)\n",
    "        threads.append(t)\n",
    "        t.start()\n",
    "        \n",
    "    # 等所有存款的线程都执行完毕\n",
    "    for t in threads:\n",
    "        t.join()\n",
    "    print(f'账户余额为{account.balance}')\n",
    "    \n",
    "if __name__ == '__main__':\n",
    "    main()"
   ]
  },
  {
   "cell_type": "code",
   "execution_count": 31,
   "metadata": {},
   "outputs": [],
   "source": [
    "import time\n",
    "import tkinter\n",
    "import tkinter.messagebox\n",
    "\n",
    "\n",
    "def download():\n",
    "    # 模拟下载任务需要花费10秒钟时间\n",
    "    time.sleep(10)\n",
    "    tkinter.messagebox.showinfo('提示', '下载完成!')\n",
    "\n",
    "\n",
    "def show_about():\n",
    "    tkinter.messagebox.showinfo('关于', '作者: 骆昊(v1.0)')\n",
    "\n",
    "\n",
    "def main():\n",
    "    top = tkinter.Tk()\n",
    "    top.title('单线程')\n",
    "    top.geometry('200x150')\n",
    "    top.wm_attributes('-topmost', True)\n",
    "\n",
    "    panel = tkinter.Frame(top)\n",
    "    button1 = tkinter.Button(panel, text='下载', command=download)\n",
    "    button1.pack(side='left')\n",
    "    button2 = tkinter.Button(panel, text='关于', command=show_about)\n",
    "    button2.pack(side='right')\n",
    "    panel.pack(side='bottom')\n",
    "\n",
    "    tkinter.mainloop()\n",
    "\n",
    "\n",
    "if __name__ == '__main__':\n",
    "    main()"
   ]
  },
  {
   "cell_type": "code",
   "execution_count": 32,
   "metadata": {},
   "outputs": [
    {
     "name": "stderr",
     "output_type": "stream",
     "text": [
      "Exception in Tkinter callback\n",
      "Traceback (most recent call last):\n",
      "  File \"C:\\ProgramData\\Anaconda3\\lib\\tkinter\\__init__.py\", line 1702, in __call__\n",
      "    return self.func(*args)\n",
      "  File \"<ipython-input-32-aff8b82d41b3>\", line 17, in download\n",
      "    button1.config(state=tkinter.DISABLED)\n",
      "NameError: name 'button1' is not defined\n"
     ]
    }
   ],
   "source": [
    "#使用多线程将耗时间的任务放到一个独立的线程中执行，这样就不会因为执行耗时间的任务而阻塞了主线程\n",
    "import time\n",
    "import tkinter\n",
    "import tkinter.messagebox\n",
    "from threading import Thread\n",
    "\n",
    "class DownloadTaskHandler(Thread):\n",
    "\n",
    "    def run(self):\n",
    "        time.sleep(10)\n",
    "        tkinter.messagebox.showinfo('提示', '下载完成!')\n",
    "        # 启用下载按钮\n",
    "        button1.config(state=tkinter.NORMAL)\n",
    "        \n",
    "def download():\n",
    "    # 禁用下载按钮\n",
    "    button1.config(state=tkinter.DISABLED)\n",
    "    # 通过daemon参数将线程设置为守护线程(主程序退出就不再保留执行)\n",
    "    # 在线程中处理耗时间的下载任务\n",
    "    DownloadTaskHandler(daemon=True).start()    \n",
    "    \n",
    "def show_about():\n",
    "    tkinter.messagebox.showinfo('关于', '作者: 骆昊(v1.0)')\n",
    "    \n",
    "def main():\n",
    "    top = tkinter.Tk()\n",
    "    top.title('单线程')\n",
    "    top.geometry('200x150')\n",
    "    top.wm_attributes('-topmost', True)\n",
    "\n",
    "    panel = tkinter.Frame(top)\n",
    "    button1 = tkinter.Button(panel, text='下载', command=download)\n",
    "    button1.pack(side='left')\n",
    "    button2 = tkinter.Button(panel, text='关于', command=show_about)\n",
    "    button2.pack(side='right')\n",
    "    panel.pack(side='bottom')\n",
    "\n",
    "    tkinter.mainloop()\n",
    "\n",
    "\n",
    "if __name__ == '__main__':\n",
    "    main()"
   ]
  },
  {
   "cell_type": "code",
   "execution_count": 33,
   "metadata": {},
   "outputs": [
    {
     "name": "stdout",
     "output_type": "stream",
     "text": [
      "49999995000000\n",
      "execution time:1.1130576133728027\n"
     ]
    }
   ],
   "source": [
    "#完成1~100000000求和的计算密集型任务\n",
    "from time import time\n",
    "\n",
    "def main():\n",
    "    total = 0\n",
    "    start = time()\n",
    "    num_list = [x for x in range(1,10000000)]\n",
    "    for i in num_list:\n",
    "        total += i\n",
    "    print(total)\n",
    "    end = time()\n",
    "    print(f'execution time:{end - start}')\n",
    "    \n",
    "if __name__ == '__main__':\n",
    "    main()"
   ]
  },
  {
   "cell_type": "code",
   "execution_count": 34,
   "metadata": {},
   "outputs": [
    {
     "data": {
      "text/plain": [
       "1"
      ]
     },
     "execution_count": 34,
     "metadata": {},
     "output_type": "execute_result"
    }
   ],
   "source": [
    "def fib2(n):\n",
    "    a,b = 0,1\n",
    "    while a<n:\n",
    "        a,b = b,a+b\n",
    "        return a\n",
    "\n",
    "fib2(10)"
   ]
  }
 ],
 "metadata": {
  "kernelspec": {
   "display_name": "Python 3",
   "language": "python",
   "name": "python3"
  },
  "language_info": {
   "codemirror_mode": {
    "name": "ipython",
    "version": 3
   },
   "file_extension": ".py",
   "mimetype": "text/x-python",
   "name": "python",
   "nbconvert_exporter": "python",
   "pygments_lexer": "ipython3",
   "version": "3.7.0"
  }
 },
 "nbformat": 4,
 "nbformat_minor": 2
}
