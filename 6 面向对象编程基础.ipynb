{
 "cells": [
  {
   "cell_type": "markdown",
   "metadata": {},
   "source": [
    "## 面向对象编程是啥\n",
    "> 把一组数据结构和处理它们的方法组成对象（object）,把相同行为的对象归纳为类(class)，通过类的封装(encapsulation)隐藏内部细节，通过继承(inheritance)实现类的特化(specialization)和泛化(generalization)，通过多态(polymorphism)实现基于对象类型的动态分派。"
   ]
  },
  {
   "cell_type": "code",
   "execution_count": 7,
   "metadata": {},
   "outputs": [
    {
     "name": "stdout",
     "output_type": "stream",
     "text": [
      "一晃正在学习Python\n",
      "一晃正在观看av\n"
     ]
    }
   ],
   "source": [
    "# 定义类\n",
    "class Student(object):\n",
    "    # __init__是一个特殊方法用于在创建对象时进行初始化操作\n",
    "    # 通过这个方法我们可以为学生对象绑定name和age两个属性\n",
    "    def __init__(self, name, age):\n",
    "        self.name = name\n",
    "        self.age = age\n",
    "        \n",
    "    def study(self, course_name):\n",
    "        print(f'{self.name}正在学习{course_name}')\n",
    "    \n",
    "    def watch_movie(self):\n",
    "        if self.age < 18:\n",
    "            print(f'{self.name}只能观看《熊出没》')\n",
    "        else:\n",
    "            print(f'{self.name}正在观看av')\n",
    "\n",
    "# 创建和使用对象\n",
    "def main():\n",
    "    stu1 = Student('一晃', 22)\n",
    "    stu1.study('Python')\n",
    "    stu1.watch_movie()\n",
    "    \n",
    "if __name__ == '__main__':\n",
    "    main()"
   ]
  },
  {
   "cell_type": "code",
   "execution_count": null,
   "metadata": {},
   "outputs": [],
   "source": [
    "# 定义一个类描述数字时钟\n",
    "from time import sleep\n",
    "\n",
    "class Clock:\n",
    "    '''数字时钟'''\n",
    "    def __init__(self, hour=0, minute=0, second=0):\n",
    "        self._hour = hour\n",
    "        self._minute = minute\n",
    "        self._second = second\n",
    "    \n",
    "    def run(self):\n",
    "        '''走表'''\n",
    "        self._second += 1\n",
    "        if self._second == 60:\n",
    "            self._second = 0\n",
    "            self._minute += 1\n",
    "            if self._minute == 60:\n",
    "                self._minute = 0\n",
    "                self._hour += 1\n",
    "                if self._hour == 24:\n",
    "                    self._hour = 0\n",
    "                    \n",
    "    def show(self):\n",
    "        '''显示时间'''\n",
    "        print(f'{self._hour}:{self._minute}:{self._second}')\n",
    "\n",
    "def main():\n",
    "    clock = Clock(23,59,58)\n",
    "    while True:\n",
    "        clock.show()\n",
    "        sleep(1)\n",
    "        clock.run()\n",
    "\n",
    "if __name__ == '__main__':\n",
    "    main()"
   ]
  },
  {
   "cell_type": "code",
   "execution_count": 1,
   "metadata": {},
   "outputs": [
    {
     "name": "stdout",
     "output_type": "stream",
     "text": [
      "3,5\n",
      "0,0\n",
      "-1,2\n",
      "5.0\n"
     ]
    }
   ],
   "source": [
    "# 定义一个类描述平面上的点并提供移动点和计算到另一个点距离的方法。\n",
    "from math import sqrt\n",
    "\n",
    "\n",
    "class Point(object):\n",
    "\n",
    "    def __init__(self, x=0, y=0):\n",
    "        \"\"\"初始化方法\n",
    "\n",
    "        :param x: 横坐标\n",
    "        :param y: 纵坐标\n",
    "        \"\"\"\n",
    "        self.x = x\n",
    "        self.y = y\n",
    "\n",
    "    def move_to(self, x, y):\n",
    "        \"\"\"移动到指定位置\n",
    "\n",
    "        :param x: 新的横坐标\n",
    "        \"param y: 新的纵坐标\n",
    "        \"\"\"\n",
    "        self.x = x\n",
    "        self.y = y\n",
    "\n",
    "    def move_by(self, dx, dy):\n",
    "        \"\"\"移动指定的增量\n",
    "\n",
    "        :param dx: 横坐标的增量\n",
    "        \"param dy: 纵坐标的增量\n",
    "        \"\"\"\n",
    "        self.x += dx\n",
    "        self.y += dy\n",
    "\n",
    "    def distance_to(self, other):\n",
    "        \"\"\"计算与另一个点的距离\n",
    "\n",
    "        :param other: 另一个点\n",
    "        \"\"\"\n",
    "        dx = self.x - other.x\n",
    "        dy = self.y - other.y\n",
    "        return sqrt(dx ** 2 + dy ** 2)\n",
    "\n",
    "    def __str__(self):\n",
    "        return f'{self.x},{self.y}'\n",
    "\n",
    "\n",
    "def main():\n",
    "    p1 = Point(3, 5)\n",
    "    p2 = Point()\n",
    "    print(p1)\n",
    "    print(p2)\n",
    "    p2.move_by(-1, 2)\n",
    "    print(p2)\n",
    "    print(p1.distance_to(p2))\n",
    "\n",
    "\n",
    "if __name__ == '__main__':\n",
    "    main()\n",
    "\n",
    "    \n",
    "        "
   ]
  }
 ],
 "metadata": {
  "kernelspec": {
   "display_name": "Python 3",
   "language": "python",
   "name": "python3"
  },
  "language_info": {
   "codemirror_mode": {
    "name": "ipython",
    "version": 3
   },
   "file_extension": ".py",
   "mimetype": "text/x-python",
   "name": "python",
   "nbconvert_exporter": "python",
   "pygments_lexer": "ipython3",
   "version": "3.7.0"
  }
 },
 "nbformat": 4,
 "nbformat_minor": 2
}
