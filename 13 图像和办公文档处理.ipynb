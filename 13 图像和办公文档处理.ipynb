{
 "cells": [
  {
   "cell_type": "code",
   "execution_count": 5,
   "metadata": {},
   "outputs": [
    {
     "data": {
      "text/plain": [
       "('PNG', (768, 1024), 'RGB')"
      ]
     },
     "execution_count": 5,
     "metadata": {},
     "output_type": "execute_result"
    }
   ],
   "source": [
    "from PIL import Image\n",
    "image = Image.open('../horizontal_flip.png')\n",
    "image.format,image.size,image.mode\n",
    "#horizontal_flip.png"
   ]
  },
  {
   "cell_type": "code",
   "execution_count": 6,
   "metadata": {},
   "outputs": [],
   "source": [
    "# 生成缩略图\n",
    "size = 128,128\n",
    "image.thumbnail(size)\n",
    "image.show()"
   ]
  },
  {
   "cell_type": "code",
   "execution_count": 8,
   "metadata": {},
   "outputs": [],
   "source": [
    "# 缩放和粘贴图像\n",
    "image1 = Image.open('../horizontal_flip.png')\n",
    "image2 = Image.open('../catlogo.png')\n",
    "rect = 80,20,310,360\n",
    "guido_head = image2.crop(rect)\n",
    "width,height = guido_head.size\n",
    "image1.paste(guido_head.resize((int(width/1.5),int(height/1.5))),(172,40))"
   ]
  },
  {
   "cell_type": "code",
   "execution_count": 9,
   "metadata": {},
   "outputs": [],
   "source": [
    "image = Image.open('../horizontal_flip.png')\n",
    "image.rotate(180).show()\n",
    "image.transpose(Image.FLIP_LEFT_RIGHT).show()"
   ]
  },
  {
   "cell_type": "code",
   "execution_count": 10,
   "metadata": {},
   "outputs": [],
   "source": [
    "# 操作像素\n",
    "image = Image.open('../horizontal_flip.png')\n",
    "for x in range(80, 310):\n",
    "    for y in range(20, 360):\n",
    "        image.putpixel((x,y),(128,128,128))\n",
    "        \n",
    "image.show()"
   ]
  },
  {
   "cell_type": "code",
   "execution_count": 11,
   "metadata": {},
   "outputs": [],
   "source": [
    "# 滤镜效果\n",
    "from PIL import Image,ImageFilter\n",
    "image = Image.open('../horizontal_flip.png')\n",
    "image.filter(ImageFilter.CONTOUR).show()"
   ]
  }
 ],
 "metadata": {
  "kernelspec": {
   "display_name": "Python 3",
   "language": "python",
   "name": "python3"
  },
  "language_info": {
   "codemirror_mode": {
    "name": "ipython",
    "version": 3
   },
   "file_extension": ".py",
   "mimetype": "text/x-python",
   "name": "python",
   "nbconvert_exporter": "python",
   "pygments_lexer": "ipython3",
   "version": "3.7.0"
  }
 },
 "nbformat": 4,
 "nbformat_minor": 2
}
