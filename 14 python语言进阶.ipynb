{
 "cells": [
  {
   "cell_type": "markdown",
   "metadata": {},
   "source": [
    "# 排序算法"
   ]
  },
  {
   "cell_type": "code",
   "execution_count": 7,
   "metadata": {},
   "outputs": [
    {
     "data": {
      "text/plain": [
       "[22, 3, 6, 7, 8, 8, 90]"
      ]
     },
     "execution_count": 7,
     "metadata": {},
     "output_type": "execute_result"
    }
   ],
   "source": [
    "## 选择排序\n",
    "def select_sort(origin_items, comp=lambda x,y:x<y):\n",
    "    \"\"\"简单选择排序\"\"\"\n",
    "    items = origin_items[:]\n",
    "    for i in range(len(items) - 1):\n",
    "        min_index = i\n",
    "        for j in range(i+1, len(items)):\n",
    "            if comp(items[i], items[min_index]):\n",
    "                min_index = j\n",
    "        items[i],items[min_index] = items[min_index], items[i]\n",
    "    return items\n",
    "     \n",
    "li = [22,3,6,7,8,8,90]\n",
    "select_sort(li)\n"
   ]
  },
  {
   "cell_type": "code",
   "execution_count": null,
   "metadata": {},
   "outputs": [],
   "source": [
    "## 冒泡排序\n",
    "def bubble_sort(origin_items, comp=lambda x,y:x>y):\n",
    "    \"\"\"高质量冒泡排序\"\"\"\n",
    "    "
   ]
  },
  {
   "cell_type": "code",
   "execution_count": 16,
   "metadata": {},
   "outputs": [
    {
     "data": {
      "text/plain": [
       "[3, 6, 7, 8, 8, 22, 90]"
      ]
     },
     "execution_count": 16,
     "metadata": {},
     "output_type": "execute_result"
    }
   ],
   "source": [
    "def merge_sort(items, comp=lambda x, y: x <= y):\n",
    "    \"\"\"归并排序(分治法)\"\"\"\n",
    "    if len(items) < 2:\n",
    "        return items[:]\n",
    "    mid = len(items) // 2\n",
    "    left = merge_sort(items[:mid], comp)\n",
    "    right = merge_sort(items[mid:], comp)\n",
    "    return merge(left, right, comp)\n",
    "    \n",
    "def merge(items1, items2, comp):\n",
    "    \"\"\"合并(将两个有序的列表合并成一个有序的列表)\"\"\"\n",
    "    items = []\n",
    "    index1,index2 = 0,0\n",
    "    while index1 < len(items1) and index2 < len(items2):\n",
    "        if comp(items1[index1], items2[index2]):\n",
    "            items.append(items1[index1])\n",
    "            index1 += 1\n",
    "        else:\n",
    "            items.append(items2[index2])\n",
    "            index2 += 1\n",
    "    items += items1[index1:]\n",
    "    items += items2[index2:]\n",
    "    return items\n",
    "li = [22,3,6,7,8,8,90]\n",
    "merge_sort(li)"
   ]
  },
  {
   "cell_type": "code",
   "execution_count": 20,
   "metadata": {},
   "outputs": [
    {
     "data": {
      "text/plain": [
       "4"
      ]
     },
     "execution_count": 20,
     "metadata": {},
     "output_type": "execute_result"
    }
   ],
   "source": [
    "# 顺序查找\n",
    "def seq_search(items,key):\n",
    "    \"\"\"顺序查找\"\"\"\n",
    "    for index, item in enumerate(items):\n",
    "        if item == key:\n",
    "            return index\n",
    "    return -1\n",
    "li = [22,3,6,7,8,8,90]\n",
    "seq_search(li,8)"
   ]
  },
  {
   "cell_type": "code",
   "execution_count": 21,
   "metadata": {},
   "outputs": [
    {
     "data": {
      "text/plain": [
       "3"
      ]
     },
     "execution_count": 21,
     "metadata": {},
     "output_type": "execute_result"
    }
   ],
   "source": [
    "def bin_search(items, key):\n",
    "    \"\"\"折半查找\"\"\"\n",
    "    start, end = 0, len(items)-1\n",
    "    while start <= end:\n",
    "        mid = (start+end)//2\n",
    "        if key>items[mid]:\n",
    "            start = mid + 1\n",
    "        elif key < items[mid]:\n",
    "            end = mid - 1\n",
    "        else:\n",
    "            return mid\n",
    "    return -1\n",
    "    \n",
    "li = [22,3,6,7,8,8,90]\n",
    "bin_search(li,7)"
   ]
  },
  {
   "cell_type": "code",
   "execution_count": 22,
   "metadata": {},
   "outputs": [
    {
     "name": "stdout",
     "output_type": "stream",
     "text": [
      "{'AAPL': 191.88, 'GOOG': 1186.96, 'IBM': 149.24, 'ACN': 166.89, 'FB': 208.09}\n"
     ]
    }
   ],
   "source": [
    "# 使用生成式\n",
    "prices = {\n",
    "    'AAPL': 191.88,\n",
    "    'GOOG': 1186.96,\n",
    "    'IBM': 149.24,\n",
    "    'ORCL': 48.44,\n",
    "    'ACN': 166.89,\n",
    "    'FB': 208.09,\n",
    "    'SYMC': 21.29\n",
    "}\n",
    "# 用股票价格大于100元的股票构造一个新的字典\n",
    "prices2 = {key:value for key,value in prices.items() if value > 100}\n",
    "print(prices2)"
   ]
  },
  {
   "cell_type": "code",
   "execution_count": 25,
   "metadata": {},
   "outputs": [
    {
     "name": "stdin",
     "output_type": "stream",
     "text": [
      "请输入关羽的语文成绩: 87\n"
     ]
    },
    {
     "name": "stdout",
     "output_type": "stream",
     "text": [
      "[[87.0, None, None], [None, None, None], [None, None, None], [None, None, None], [None, None, None]]\n"
     ]
    },
    {
     "name": "stdin",
     "output_type": "stream",
     "text": [
      "请输入关羽的数学成绩: 88\n"
     ]
    },
    {
     "name": "stdout",
     "output_type": "stream",
     "text": [
      "[[87.0, 88.0, None], [None, None, None], [None, None, None], [None, None, None], [None, None, None]]\n"
     ]
    },
    {
     "name": "stdin",
     "output_type": "stream",
     "text": [
      "请输入关羽的英语成绩: 79\n"
     ]
    },
    {
     "name": "stdout",
     "output_type": "stream",
     "text": [
      "[[87.0, 88.0, 79.0], [None, None, None], [None, None, None], [None, None, None], [None, None, None]]\n"
     ]
    },
    {
     "name": "stdin",
     "output_type": "stream",
     "text": [
      "请输入张飞的语文成绩: 98\n"
     ]
    },
    {
     "name": "stdout",
     "output_type": "stream",
     "text": [
      "[[87.0, 88.0, 79.0], [98.0, None, None], [None, None, None], [None, None, None], [None, None, None]]\n"
     ]
    },
    {
     "name": "stdin",
     "output_type": "stream",
     "text": [
      "请输入张飞的数学成绩: 99\n"
     ]
    },
    {
     "name": "stdout",
     "output_type": "stream",
     "text": [
      "[[87.0, 88.0, 79.0], [98.0, 99.0, None], [None, None, None], [None, None, None], [None, None, None]]\n"
     ]
    },
    {
     "name": "stdin",
     "output_type": "stream",
     "text": [
      "请输入张飞的英语成绩: 98\n"
     ]
    },
    {
     "name": "stdout",
     "output_type": "stream",
     "text": [
      "[[87.0, 88.0, 79.0], [98.0, 99.0, 98.0], [None, None, None], [None, None, None], [None, None, None]]\n"
     ]
    },
    {
     "name": "stdin",
     "output_type": "stream",
     "text": [
      "请输入赵云的语文成绩: 78\n"
     ]
    },
    {
     "name": "stdout",
     "output_type": "stream",
     "text": [
      "[[87.0, 88.0, 79.0], [98.0, 99.0, 98.0], [78.0, None, None], [None, None, None], [None, None, None]]\n"
     ]
    },
    {
     "name": "stdin",
     "output_type": "stream",
     "text": [
      "请输入赵云的数学成绩: 98\n"
     ]
    },
    {
     "name": "stdout",
     "output_type": "stream",
     "text": [
      "[[87.0, 88.0, 79.0], [98.0, 99.0, 98.0], [78.0, 98.0, None], [None, None, None], [None, None, None]]\n"
     ]
    },
    {
     "name": "stdin",
     "output_type": "stream",
     "text": [
      "请输入赵云的英语成绩: 99\n"
     ]
    },
    {
     "name": "stdout",
     "output_type": "stream",
     "text": [
      "[[87.0, 88.0, 79.0], [98.0, 99.0, 98.0], [78.0, 98.0, 99.0], [None, None, None], [None, None, None]]\n"
     ]
    },
    {
     "name": "stdin",
     "output_type": "stream",
     "text": [
      "请输入马超的语文成绩: 99\n"
     ]
    },
    {
     "name": "stdout",
     "output_type": "stream",
     "text": [
      "[[87.0, 88.0, 79.0], [98.0, 99.0, 98.0], [78.0, 98.0, 99.0], [99.0, None, None], [None, None, None]]\n"
     ]
    },
    {
     "name": "stdin",
     "output_type": "stream",
     "text": [
      "请输入马超的数学成绩: 99\n"
     ]
    },
    {
     "name": "stdout",
     "output_type": "stream",
     "text": [
      "[[87.0, 88.0, 79.0], [98.0, 99.0, 98.0], [78.0, 98.0, 99.0], [99.0, 99.0, None], [None, None, None]]\n"
     ]
    },
    {
     "name": "stdin",
     "output_type": "stream",
     "text": [
      "请输入马超的英语成绩: 99\n"
     ]
    },
    {
     "name": "stdout",
     "output_type": "stream",
     "text": [
      "[[87.0, 88.0, 79.0], [98.0, 99.0, 98.0], [78.0, 98.0, 99.0], [99.0, 99.0, 99.0], [None, None, None]]\n"
     ]
    },
    {
     "name": "stdin",
     "output_type": "stream",
     "text": [
      "请输入黄忠的语文成绩: 88\n"
     ]
    },
    {
     "name": "stdout",
     "output_type": "stream",
     "text": [
      "[[87.0, 88.0, 79.0], [98.0, 99.0, 98.0], [78.0, 98.0, 99.0], [99.0, 99.0, 99.0], [88.0, None, None]]\n"
     ]
    },
    {
     "name": "stdin",
     "output_type": "stream",
     "text": [
      "请输入黄忠的数学成绩: 99\n"
     ]
    },
    {
     "name": "stdout",
     "output_type": "stream",
     "text": [
      "[[87.0, 88.0, 79.0], [98.0, 99.0, 98.0], [78.0, 98.0, 99.0], [99.0, 99.0, 99.0], [88.0, 99.0, None]]\n"
     ]
    },
    {
     "name": "stdin",
     "output_type": "stream",
     "text": [
      "请输入黄忠的英语成绩: 889\n"
     ]
    },
    {
     "name": "stdout",
     "output_type": "stream",
     "text": [
      "[[87.0, 88.0, 79.0], [98.0, 99.0, 98.0], [78.0, 98.0, 99.0], [99.0, 99.0, 99.0], [88.0, 99.0, 889.0]]\n"
     ]
    }
   ],
   "source": [
    "# 嵌套的列表\n",
    "names = ['关羽', '张飞', '赵云', '马超', '黄忠']\n",
    "courses = ['语文', '数学', '英语']\n",
    "# 录入五个学生三门课程的成绩\n",
    "scores = [[None] * len(courses) for _ in range(len(names))]\n",
    "for row, name in enumerate(names):\n",
    "    for col, course in enumerate(courses):\n",
    "        scores[row][col] = float(input(f'请输入{name}的{course}成绩:'))\n",
    "        print(scores)"
   ]
  },
  {
   "cell_type": "code",
   "execution_count": 29,
   "metadata": {},
   "outputs": [
    {
     "name": "stdout",
     "output_type": "stream",
     "text": [
      "[99, 92, 88]\n",
      "[12, 25, 34]\n",
      "[{'name': 'AAPL', 'shares': 50, 'price': 543.22}, {'name': 'ACME', 'shares': 75, 'price': 115.65}]\n",
      "[{'name': 'FB', 'shares': 200, 'price': 21.09}, {'name': 'IBM', 'shares': 100, 'price': 91.1}]\n"
     ]
    }
   ],
   "source": [
    "\"\"\"\n",
    "从列表中找出最大的或最小的N个元素\n",
    "堆结构(大根堆/小根堆)\n",
    "\"\"\"\n",
    "import heapq\n",
    "\n",
    "list1 = [34, 25, 12, 99, 87, 63, 58, 78, 88, 92]\n",
    "list2 = [\n",
    "    {'name': 'IBM', 'shares': 100, 'price': 91.1},\n",
    "    {'name': 'AAPL', 'shares': 50, 'price': 543.22},\n",
    "    {'name': 'FB', 'shares': 200, 'price': 21.09},\n",
    "    {'name': 'HPQ', 'shares': 35, 'price': 31.75},\n",
    "    {'name': 'YHOO', 'shares': 45, 'price': 16.35},\n",
    "    {'name': 'ACME', 'shares': 75, 'price': 115.65}\n",
    "]\n",
    "print(heapq.nlargest(3,list1))\n",
    "print(heapq.nsmallest(3,list1))\n",
    "print(heapq.nlargest(2,list2,key=lambda x:x['price']))\n",
    "print(heapq.nlargest(2,list2,key=lambda x:x['shares']))"
   ]
  },
  {
   "cell_type": "code",
   "execution_count": 33,
   "metadata": {},
   "outputs": [
    {
     "name": "stdout",
     "output_type": "stream",
     "text": [
      "('A', 'B', 'C')\n",
      "('A', 'B', 'D')\n",
      "('A', 'C', 'D')\n",
      "('B', 'C', 'D')\n",
      "('A', '1')\n",
      "('A', '2')\n",
      "('A', '3')\n",
      "('B', '1')\n",
      "('B', '2')\n",
      "('B', '3')\n",
      "('C', '1')\n",
      "('C', '2')\n",
      "('C', '3')\n",
      "('D', '1')\n",
      "('D', '2')\n",
      "('D', '3')\n"
     ]
    }
   ],
   "source": [
    "\"\"\"\n",
    "迭代工具 - 排列 / 组合 / 笛卡尔积\n",
    "\"\"\"\n",
    "import itertools\n",
    "t = itertools.permutations('ABCD')\n",
    "\n",
    "   \n",
    "m = itertools.combinations('ABCD', 3)\n",
    "for _ in m:\n",
    "    print(_)\n",
    "    \n",
    "n = itertools.product('ABCD', '123')\n",
    "for i in n:\n",
    "    print(i)\n"
   ]
  },
  {
   "cell_type": "code",
   "execution_count": 34,
   "metadata": {},
   "outputs": [
    {
     "name": "stdout",
     "output_type": "stream",
     "text": [
      "[('eyes', 8), ('the', 5), ('look', 4)]\n"
     ]
    }
   ],
   "source": [
    "\"\"\"\n",
    "找出序列中出现次数最多的元素\n",
    "\"\"\"\n",
    "from collections import Counter\n",
    "\n",
    "words = [\n",
    "    'look', 'into', 'my', 'eyes', 'look', 'into', 'my', 'eyes',\n",
    "    'the', 'eyes', 'the', 'eyes', 'the', 'eyes', 'not', 'around',\n",
    "    'the', 'eyes', \"don't\", 'look', 'around', 'the', 'eyes',\n",
    "    'look', 'into', 'my', 'eyes', \"you're\", 'under'\n",
    "]\n",
    "\n",
    "counter = Counter(words)\n",
    "print(counter.most_common(3))"
   ]
  },
  {
   "cell_type": "code",
   "execution_count": 37,
   "metadata": {},
   "outputs": [
    {
     "name": "stdout",
     "output_type": "stream",
     "text": [
      "0 25 75\n",
      "4 18 78\n",
      "8 11 81\n",
      "12 4 84\n"
     ]
    }
   ],
   "source": [
    "# 公鸡5元一只 母鸡3元一只 小鸡1元三只\n",
    "# 用100元买100只鸡 问公鸡/母鸡/小鸡各多少只\n",
    "for x in range(20):\n",
    "    for y in range(33):\n",
    "        z = 100-x-y\n",
    "        if 5*x + 3*y + z//3 == 100 and z%3==0:\n",
    "            print(x,y,z)"
   ]
  },
  {
   "cell_type": "code",
   "execution_count": 38,
   "metadata": {},
   "outputs": [
    {
     "name": "stdout",
     "output_type": "stream",
     "text": [
      "3121\n"
     ]
    }
   ],
   "source": [
    "# A、B、C、D、E五人在某天夜里合伙捕鱼 最后疲惫不堪各自睡觉\n",
    "# 第二天A第一个醒来 他将鱼分为5份 扔掉多余的1条 拿走自己的一份\n",
    "# B第二个醒来 也将鱼分为5份 扔掉多余的1条 拿走自己的一份\n",
    "# 然后C、D、E依次醒来也按同样的方式分鱼 问他们至少捕了多少条鱼\n",
    "fish = 6\n",
    "while True:\n",
    "    total = fish\n",
    "    enough = True\n",
    "    for _ in range(5):\n",
    "        if (total - 1) % 5 == 0:\n",
    "            total = (total - 1) // 5 * 4\n",
    "        else:\n",
    "            enough = False\n",
    "            break\n",
    "    if enough:\n",
    "        print(fish)\n",
    "        break\n",
    "    fish += 5"
   ]
  },
  {
   "cell_type": "code",
   "execution_count": 42,
   "metadata": {},
   "outputs": [
    {
     "ename": "NameError",
     "evalue": "name 'price' is not defined",
     "output_type": "error",
     "traceback": [
      "\u001b[1;31m---------------------------------------------------------------------------\u001b[0m",
      "\u001b[1;31mNameError\u001b[0m                                 Traceback (most recent call last)",
      "\u001b[1;32m<ipython-input-42-dcc339a5a5b5>\u001b[0m in \u001b[0;36m<module>\u001b[1;34m()\u001b[0m\n\u001b[0;32m     42\u001b[0m \u001b[1;33m\u001b[0m\u001b[0m\n\u001b[0;32m     43\u001b[0m \u001b[1;32mif\u001b[0m \u001b[0m__name__\u001b[0m \u001b[1;33m==\u001b[0m \u001b[1;34m'__main__'\u001b[0m\u001b[1;33m:\u001b[0m\u001b[1;33m\u001b[0m\u001b[0m\n\u001b[1;32m---> 44\u001b[1;33m     \u001b[0mmain\u001b[0m\u001b[1;33m(\u001b[0m\u001b[1;33m)\u001b[0m\u001b[1;33m\u001b[0m\u001b[0m\n\u001b[0m",
      "\u001b[1;32m<ipython-input-42-dcc339a5a5b5>\u001b[0m in \u001b[0;36mmain\u001b[1;34m()\u001b[0m\n\u001b[0;32m     25\u001b[0m \u001b[1;32mdef\u001b[0m \u001b[0mmain\u001b[0m\u001b[1;33m(\u001b[0m\u001b[1;33m)\u001b[0m\u001b[1;33m:\u001b[0m\u001b[1;33m\u001b[0m\u001b[0m\n\u001b[0;32m     26\u001b[0m     \u001b[1;34m\"\"\"主函数\"\"\"\u001b[0m\u001b[1;33m\u001b[0m\u001b[0m\n\u001b[1;32m---> 27\u001b[1;33m     li = [{name:\"电脑\",price:200,weight:20},\n\u001b[0m\u001b[0;32m     28\u001b[0m           \u001b[1;33m{\u001b[0m\u001b[0mname\u001b[0m\u001b[1;33m:\u001b[0m\u001b[1;34m\"收音机\"\u001b[0m\u001b[1;33m,\u001b[0m\u001b[0mprice\u001b[0m\u001b[1;33m:\u001b[0m\u001b[1;36m20\u001b[0m\u001b[1;33m,\u001b[0m\u001b[0mweight\u001b[0m\u001b[1;33m:\u001b[0m\u001b[1;36m4\u001b[0m\u001b[1;33m}\u001b[0m\u001b[1;33m,\u001b[0m\u001b[1;33m\u001b[0m\u001b[0m\n\u001b[0;32m     29\u001b[0m           \u001b[1;33m{\u001b[0m\u001b[0mname\u001b[0m\u001b[1;33m:\u001b[0m\u001b[1;34m\"钟\"\u001b[0m\u001b[1;33m,\u001b[0m\u001b[0mprice\u001b[0m\u001b[1;33m:\u001b[0m\u001b[1;36m175\u001b[0m\u001b[1;33m,\u001b[0m\u001b[0mweight\u001b[0m\u001b[1;33m:\u001b[0m\u001b[1;36m10\u001b[0m\u001b[1;33m}\u001b[0m\u001b[1;33m,\u001b[0m\u001b[1;33m\u001b[0m\u001b[0m\n",
      "\u001b[1;31mNameError\u001b[0m: name 'price' is not defined"
     ]
    }
   ],
   "source": [
    "\"\"\"\n",
    "贪婪法：在对问题求解时，总是做出在当前看来是最好的选择，不追求最优解，快速找到满意解。\n",
    "输入：\n",
    "20 6\n",
    "电脑 200 20\n",
    "收音机 20 4\n",
    "钟 175 10\n",
    "花瓶 50 2\n",
    "书 10 1\n",
    "油画 90 9\n",
    "\"\"\"\n",
    "class Thing(object):\n",
    "    \"\"\"物品\"\"\"\n",
    "\n",
    "    def __init__(self, name, price, weight):\n",
    "        self.name = name\n",
    "        self.price = price\n",
    "        self.weight = weight\n",
    "\n",
    "    @property\n",
    "    def value(self):\n",
    "        \"\"\"价格重量比\"\"\"\n",
    "        return self.price / self.weight\n",
    "\n",
    "def main():\n",
    "    \"\"\"主函数\"\"\"\n",
    "    li = [{name:\"电脑\",price:200,weight:20},\n",
    "          {name:\"收音机\",price:20,weight:4},\n",
    "          {name:\"钟\",price:175,weight:10},\n",
    "          {name:\"花瓶\",price:50,weight:2},\n",
    "          {name:\"油画\",price:90,weight:9}]\n",
    "    #li.sort(key=lambda x: x.value, reverse=True)\n",
    "    total_weight = 0\n",
    "    total_price = 0\n",
    "    for thing in li:\n",
    "        if total_weight + thing.weight <= max_weight:\n",
    "            print(f'小偷拿走了{thing.name}')\n",
    "            total_weight += thing.weight\n",
    "            total_price += thing.price\n",
    "    print(f'总价值: {total_price}美元')\n",
    "\n",
    "\n",
    "if __name__ == '__main__':\n",
    "    main()"
   ]
  },
  {
   "cell_type": "code",
   "execution_count": 44,
   "metadata": {},
   "outputs": [
    {
     "data": {
      "text/plain": [
       "4"
      ]
     },
     "execution_count": 44,
     "metadata": {},
     "output_type": "execute_result"
    }
   ],
   "source": [
    "def fib(num, temp={}):\n",
    "    \"\"\"用递归计算Fibonacci数\"\"\"\n",
    "    if num in (1, 2):\n",
    "        return 1\n",
    "    try:\n",
    "        return temp[num]\n",
    "    except KeyError:\n",
    "        temp[num] = fib(num - 1) + fib(num - 2)\n",
    "        return temp[num]\n",
    "        \n",
    "fib(3, [1,2,3,4])"
   ]
  }
 ],
 "metadata": {
  "kernelspec": {
   "display_name": "Python 3",
   "language": "python",
   "name": "python3"
  },
  "language_info": {
   "codemirror_mode": {
    "name": "ipython",
    "version": 3
   },
   "file_extension": ".py",
   "mimetype": "text/x-python",
   "name": "python",
   "nbconvert_exporter": "python",
   "pygments_lexer": "ipython3",
   "version": "3.7.0"
  }
 },
 "nbformat": 4,
 "nbformat_minor": 2
}
