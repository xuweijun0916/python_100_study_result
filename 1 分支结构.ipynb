{
 "cells": [
  {
   "cell_type": "code",
   "execution_count": 2,
   "metadata": {},
   "outputs": [
    {
     "name": "stdin",
     "output_type": "stream",
     "text": [
      "请输入用户名： x\n",
      "请输入密码： asddasd\n"
     ]
    },
    {
     "name": "stdout",
     "output_type": "stream",
     "text": [
      "验证失败！\n"
     ]
    }
   ],
   "source": [
    "import getpass\n",
    "username = input(\"请输入用户名：\")\n",
    "#password = getpass.getpass(\"请输入密码：\")\n",
    "password = input(\"请输入密码：\")\n",
    "if username == 'admin' and password == '123456':\n",
    "    print('身份验证成功！')\n",
    "else:\n",
    "    print(\"验证失败！\")"
   ]
  },
  {
   "cell_type": "code",
   "execution_count": 4,
   "metadata": {},
   "outputs": [
    {
     "name": "stdin",
     "output_type": "stream",
     "text": [
      "请输入数值： 12\n",
      "请输入单位： cm\n"
     ]
    },
    {
     "name": "stdout",
     "output_type": "stream",
     "text": [
      "12.0厘米=4.724409448818897英寸\n"
     ]
    }
   ],
   "source": [
    "# 练习：英制单位与公制单位互换\n",
    "value = float(input(\"请输入数值：\"))\n",
    "unit = input(\"请输入单位：\")\n",
    "if unit in ('inch',\"英寸\"):\n",
    "    print(f\"{value}英寸={value*2.54}厘米\")\n",
    "elif unit in ('cm',\"厘米\"):\n",
    "    print(f\"{value}厘米={value/2.54}英寸\")\n",
    "else:\n",
    "    print(\"请输入有效值!\")"
   ]
  },
  {
   "cell_type": "code",
   "execution_count": 6,
   "metadata": {},
   "outputs": [
    {
     "name": "stdin",
     "output_type": "stream",
     "text": [
      "请输入你的成绩： 88\n"
     ]
    },
    {
     "name": "stdout",
     "output_type": "stream",
     "text": [
      "你的等级为B\n"
     ]
    }
   ],
   "source": [
    "# 百分制成绩转换等级\n",
    "score = int(input(\"请输入你的成绩：\"))\n",
    "if score>=90:\n",
    "    print(\"你的等级为A\")\n",
    "elif score >= 80 and score <90:\n",
    "    print(\"你的等级为B\")\n",
    "elif score >=70 and score <80:\n",
    "    print(\"你的等级为C\")\n",
    "else:\n",
    "    print(\"你的等级为D\")\n",
    "    "
   ]
  },
  {
   "cell_type": "code",
   "execution_count": 10,
   "metadata": {},
   "outputs": [
    {
     "name": "stdin",
     "output_type": "stream",
     "text": [
      "输入边长: 3\n",
      "输入另一边长： 4\n",
      "输入第三边上： 5\n"
     ]
    },
    {
     "name": "stdout",
     "output_type": "stream",
     "text": [
      "周长=12.0\n",
      "面积=6.0\n"
     ]
    }
   ],
   "source": [
    "# 输入三条边，如果能构成三角形则输出周长、面积\n",
    "import math\n",
    "a = float(input(\"输入边长:\"))\n",
    "b = float(input(\"输入另一边长：\"))\n",
    "c = float(input(\"输入第三边上：\"))\n",
    "if a+b>c and a+c>b and b+c>a:\n",
    "    print(f\"周长={a+b+c}\")\n",
    "    p = (a+b+c)/2\n",
    "    print(f\"面积={math.sqrt(p*(p-a)*(p-b)*(p-c))}\")\n",
    "else:\n",
    "    print(\"输入的三条边构不成三角形\")"
   ]
  },
  {
   "cell_type": "code",
   "execution_count": 11,
   "metadata": {},
   "outputs": [
    {
     "name": "stdin",
     "output_type": "stream",
     "text": [
      "本月收入： 9000\n",
      "五险一金： 1097.4\n",
      "个税扣除额度： 1500\n"
     ]
    },
    {
     "name": "stdout",
     "output_type": "stream",
     "text": [
      "个人所得税：42.07800000000001\n",
      "实际到手收入：7860.522\n"
     ]
    }
   ],
   "source": [
    "# 个人所得税计算\n",
    "salary = float(input(\"本月收入：\"))\n",
    "insurance = float(input(\"五险一金：\"))\n",
    "deducation = float(input(\"个税扣除额度：\"))\n",
    "diff = salary - insurance - 5000\n",
    "if diff <= 0:\n",
    "    rate = 0\n",
    "elif diff <= 3000:\n",
    "    rate = 0.03\n",
    "elif diff <= 12000:\n",
    "    rate = 0.1\n",
    "elif diff <= 25000:\n",
    "    rate = 0.2\n",
    "elif diff <= 35000:\n",
    "    rate = 0.25\n",
    "elif diff <= 55000:\n",
    "    rate = 0.3\n",
    "elif diff <= 80000:\n",
    "    rate = 0.35\n",
    "else:\n",
    "    rate = 0.45\n",
    "    \n",
    "tax = (diff-deducation)*rate\n",
    "print(f\"个人所得税：{tax}\")\n",
    "print(f\"实际到手收入：{diff + 5000 - tax}\")"
   ]
  }
 ],
 "metadata": {
  "kernelspec": {
   "display_name": "Python 3",
   "language": "python",
   "name": "python3"
  },
  "language_info": {
   "codemirror_mode": {
    "name": "ipython",
    "version": 3
   },
   "file_extension": ".py",
   "mimetype": "text/x-python",
   "name": "python",
   "nbconvert_exporter": "python",
   "pygments_lexer": "ipython3",
   "version": "3.7.0"
  }
 },
 "nbformat": 4,
 "nbformat_minor": 2
}
