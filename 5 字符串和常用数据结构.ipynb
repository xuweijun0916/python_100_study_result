{
 "cells": [
  {
   "cell_type": "code",
   "execution_count": 4,
   "metadata": {},
   "outputs": [
    {
     "name": "stdout",
     "output_type": "stream",
     "text": [
      "------------------Hello, world!-------------------\n",
      "                                     Hello, world!\n"
     ]
    }
   ],
   "source": [
    "def main():\n",
    "    str1 = 'Hello, world!'\n",
    "    print(str1.center(50,'-'))\n",
    "    print(str1.rjust(50,' '))\n",
    "    \n",
    "if __name__ == '__main__':\n",
    "    main()"
   ]
  },
  {
   "cell_type": "code",
   "execution_count": 5,
   "metadata": {},
   "outputs": [
    {
     "name": "stdout",
     "output_type": "stream",
     "text": [
      "[1, 400, 3, 5, 7, 100, 1000, 2000]\n"
     ]
    }
   ],
   "source": [
    "def main():\n",
    "    list1 = [1,3,5,7,100]\n",
    "    list1.insert(1,400)\n",
    "    list1 += [1000,2000]\n",
    "    print(list1)\n",
    "if __name__ == '__main__':\n",
    "    main()"
   ]
  },
  {
   "cell_type": "code",
   "execution_count": 7,
   "metadata": {},
   "outputs": [
    {
     "name": "stdout",
     "output_type": "stream",
     "text": [
      "grape apple strawberry waxberry pitaya pear mango "
     ]
    }
   ],
   "source": [
    "def main():\n",
    "    fruits = ['grape', 'apple', 'strawberry', 'waxberry']\n",
    "    fruits += ['pitaya', 'pear', 'mango']\n",
    "    # 循环遍历列表元素\n",
    "    for fruit in fruits:\n",
    "        print(fruit, end=' ')\n",
    "if __name__ == '__main__':\n",
    "    main()"
   ]
  },
  {
   "cell_type": "code",
   "execution_count": 8,
   "metadata": {},
   "outputs": [
    {
     "name": "stdout",
     "output_type": "stream",
     "text": [
      "['orange', 'apple', 'zoo', 'internationalization']\n",
      "['apple', 'internationalization', 'orange', 'zoo']\n",
      "['zoo', 'orange', 'internationalization', 'apple']\n",
      "['zoo', 'apple', 'orange', 'internationalization']\n"
     ]
    }
   ],
   "source": [
    "def main():\n",
    "    list1 = ['orange', 'apple', 'zoo', 'internationalization']\n",
    "    list2 = sorted(list1)\n",
    "    list3 = sorted(list1, reverse=True)\n",
    "    list4 = sorted(list1, key=len)\n",
    "    print(list1)\n",
    "    print(list2)\n",
    "    print(list3)\n",
    "    print(list4)\n",
    "if __name__ == '__main__':\n",
    "    main()"
   ]
  },
  {
   "cell_type": "code",
   "execution_count": 12,
   "metadata": {},
   "outputs": [
    {
     "name": "stdout",
     "output_type": "stream",
     "text": [
      "[1, 2, 3, 4, 5, 6, 7, 8, 9]\n",
      "['a1', 'a2', 'a3', 'a4', 'a5', 'a5', 'b1', 'b2', 'b3', 'b4', 'b5', 'b5', 'c1', 'c2', 'c3', 'c4', 'c5', 'c5']\n",
      "9024\n",
      "[1, 4, 9, 16, 25, 36, 49, 64, 81, 100, 121, 144, 169, 196, 225, 256, 289, 324, 361, 400, 441, 484, 529, 576, 625, 676, 729, 784, 841, 900, 961, 1024, 1089, 1156, 1225, 1296, 1369, 1444, 1521, 1600, 1681, 1764, 1849, 1936, 2025, 2116, 2209, 2304, 2401, 2500, 2601, 2704, 2809, 2916, 3025, 3136, 3249, 3364, 3481, 3600, 3721, 3844, 3969, 4096, 4225, 4356, 4489, 4624, 4761, 4900, 5041, 5184, 5329, 5476, 5625, 5776, 5929, 6084, 6241, 6400, 6561, 6724, 6889, 7056, 7225, 7396, 7569, 7744, 7921, 8100, 8281, 8464, 8649, 8836, 9025, 9216, 9409, 9604, 9801, 10000, 10201, 10404, 10609, 10816, 11025, 11236, 11449, 11664, 11881, 12100, 12321, 12544, 12769, 12996, 13225, 13456, 13689, 13924, 14161, 14400, 14641, 14884, 15129, 15376, 15625, 15876, 16129, 16384, 16641, 16900, 17161, 17424, 17689, 17956, 18225, 18496, 18769, 19044, 19321, 19600, 19881, 20164, 20449, 20736, 21025, 21316, 21609, 21904, 22201, 22500, 22801, 23104, 23409, 23716, 24025, 24336, 24649, 24964, 25281, 25600, 25921, 26244, 26569, 26896, 27225, 27556, 27889, 28224, 28561, 28900, 29241, 29584, 29929, 30276, 30625, 30976, 31329, 31684, 32041, 32400, 32761, 33124, 33489, 33856, 34225, 34596, 34969, 35344, 35721, 36100, 36481, 36864, 37249, 37636, 38025, 38416, 38809, 39204, 39601, 40000, 40401, 40804, 41209, 41616, 42025, 42436, 42849, 43264, 43681, 44100, 44521, 44944, 45369, 45796, 46225, 46656, 47089, 47524, 47961, 48400, 48841, 49284, 49729, 50176, 50625, 51076, 51529, 51984, 52441, 52900, 53361, 53824, 54289, 54756, 55225, 55696, 56169, 56644, 57121, 57600, 58081, 58564, 59049, 59536, 60025, 60516, 61009, 61504, 62001, 62500, 63001, 63504, 64009, 64516, 65025, 65536, 66049, 66564, 67081, 67600, 68121, 68644, 69169, 69696, 70225, 70756, 71289, 71824, 72361, 72900, 73441, 73984, 74529, 75076, 75625, 76176, 76729, 77284, 77841, 78400, 78961, 79524, 80089, 80656, 81225, 81796, 82369, 82944, 83521, 84100, 84681, 85264, 85849, 86436, 87025, 87616, 88209, 88804, 89401, 90000, 90601, 91204, 91809, 92416, 93025, 93636, 94249, 94864, 95481, 96100, 96721, 97344, 97969, 98596, 99225, 99856, 100489, 101124, 101761, 102400, 103041, 103684, 104329, 104976, 105625, 106276, 106929, 107584, 108241, 108900, 109561, 110224, 110889, 111556, 112225, 112896, 113569, 114244, 114921, 115600, 116281, 116964, 117649, 118336, 119025, 119716, 120409, 121104, 121801, 122500, 123201, 123904, 124609, 125316, 126025, 126736, 127449, 128164, 128881, 129600, 130321, 131044, 131769, 132496, 133225, 133956, 134689, 135424, 136161, 136900, 137641, 138384, 139129, 139876, 140625, 141376, 142129, 142884, 143641, 144400, 145161, 145924, 146689, 147456, 148225, 148996, 149769, 150544, 151321, 152100, 152881, 153664, 154449, 155236, 156025, 156816, 157609, 158404, 159201, 160000, 160801, 161604, 162409, 163216, 164025, 164836, 165649, 166464, 167281, 168100, 168921, 169744, 170569, 171396, 172225, 173056, 173889, 174724, 175561, 176400, 177241, 178084, 178929, 179776, 180625, 181476, 182329, 183184, 184041, 184900, 185761, 186624, 187489, 188356, 189225, 190096, 190969, 191844, 192721, 193600, 194481, 195364, 196249, 197136, 198025, 198916, 199809, 200704, 201601, 202500, 203401, 204304, 205209, 206116, 207025, 207936, 208849, 209764, 210681, 211600, 212521, 213444, 214369, 215296, 216225, 217156, 218089, 219024, 219961, 220900, 221841, 222784, 223729, 224676, 225625, 226576, 227529, 228484, 229441, 230400, 231361, 232324, 233289, 234256, 235225, 236196, 237169, 238144, 239121, 240100, 241081, 242064, 243049, 244036, 245025, 246016, 247009, 248004, 249001, 250000, 251001, 252004, 253009, 254016, 255025, 256036, 257049, 258064, 259081, 260100, 261121, 262144, 263169, 264196, 265225, 266256, 267289, 268324, 269361, 270400, 271441, 272484, 273529, 274576, 275625, 276676, 277729, 278784, 279841, 280900, 281961, 283024, 284089, 285156, 286225, 287296, 288369, 289444, 290521, 291600, 292681, 293764, 294849, 295936, 297025, 298116, 299209, 300304, 301401, 302500, 303601, 304704, 305809, 306916, 308025, 309136, 310249, 311364, 312481, 313600, 314721, 315844, 316969, 318096, 319225, 320356, 321489, 322624, 323761, 324900, 326041, 327184, 328329, 329476, 330625, 331776, 332929, 334084, 335241, 336400, 337561, 338724, 339889, 341056, 342225, 343396, 344569, 345744, 346921, 348100, 349281, 350464, 351649, 352836, 354025, 355216, 356409, 357604, 358801, 360000, 361201, 362404, 363609, 364816, 366025, 367236, 368449, 369664, 370881, 372100, 373321, 374544, 375769, 376996, 378225, 379456, 380689, 381924, 383161, 384400, 385641, 386884, 388129, 389376, 390625, 391876, 393129, 394384, 395641, 396900, 398161, 399424, 400689, 401956, 403225, 404496, 405769, 407044, 408321, 409600, 410881, 412164, 413449, 414736, 416025, 417316, 418609, 419904, 421201, 422500, 423801, 425104, 426409, 427716, 429025, 430336, 431649, 432964, 434281, 435600, 436921, 438244, 439569, 440896, 442225, 443556, 444889, 446224, 447561, 448900, 450241, 451584, 452929, 454276, 455625, 456976, 458329, 459684, 461041, 462400, 463761, 465124, 466489, 467856, 469225, 470596, 471969, 473344, 474721, 476100, 477481, 478864, 480249, 481636, 483025, 484416, 485809, 487204, 488601, 490000, 491401, 492804, 494209, 495616, 497025, 498436, 499849, 501264, 502681, 504100, 505521, 506944, 508369, 509796, 511225, 512656, 514089, 515524, 516961, 518400, 519841, 521284, 522729, 524176, 525625, 527076, 528529, 529984, 531441, 532900, 534361, 535824, 537289, 538756, 540225, 541696, 543169, 544644, 546121, 547600, 549081, 550564, 552049, 553536, 555025, 556516, 558009, 559504, 561001, 562500, 564001, 565504, 567009, 568516, 570025, 571536, 573049, 574564, 576081, 577600, 579121, 580644, 582169, 583696, 585225, 586756, 588289, 589824, 591361, 592900, 594441, 595984, 597529, 599076, 600625, 602176, 603729, 605284, 606841, 608400, 609961, 611524, 613089, 614656, 616225, 617796, 619369, 620944, 622521, 624100, 625681, 627264, 628849, 630436, 632025, 633616, 635209, 636804, 638401, 640000, 641601, 643204, 644809, 646416, 648025, 649636, 651249, 652864, 654481, 656100, 657721, 659344, 660969, 662596, 664225, 665856, 667489, 669124, 670761, 672400, 674041, 675684, 677329, 678976, 680625, 682276, 683929, 685584, 687241, 688900, 690561, 692224, 693889, 695556, 697225, 698896, 700569, 702244, 703921, 705600, 707281, 708964, 710649, 712336, 714025, 715716, 717409, 719104, 720801, 722500, 724201, 725904, 727609, 729316, 731025, 732736, 734449, 736164, 737881, 739600, 741321, 743044, 744769, 746496, 748225, 749956, 751689, 753424, 755161, 756900, 758641, 760384, 762129, 763876, 765625, 767376, 769129, 770884, 772641, 774400, 776161, 777924, 779689, 781456, 783225, 784996, 786769, 788544, 790321, 792100, 793881, 795664, 797449, 799236, 801025, 802816, 804609, 806404, 808201, 810000, 811801, 813604, 815409, 817216, 819025, 820836, 822649, 824464, 826281, 828100, 829921, 831744, 833569, 835396, 837225, 839056, 840889, 842724, 844561, 846400, 848241, 850084, 851929, 853776, 855625, 857476, 859329, 861184, 863041, 864900, 866761, 868624, 870489, 872356, 874225, 876096, 877969, 879844, 881721, 883600, 885481, 887364, 889249, 891136, 893025, 894916, 896809, 898704, 900601, 902500, 904401, 906304, 908209, 910116, 912025, 913936, 915849, 917764, 919681, 921600, 923521, 925444, 927369, 929296, 931225, 933156, 935089, 937024, 938961, 940900, 942841, 944784, 946729, 948676, 950625, 952576, 954529, 956484, 958441, 960400, 962361, 964324, 966289, 968256, 970225, 972196, 974169, 976144, 978121, 980100, 982081, 984064, 986049, 988036, 990025, 992016, 994009, 996004, 998001]\n",
      "120\n",
      "<generator object main.<locals>.<genexpr> at 0x00000297CA2517C8>\n"
     ]
    }
   ],
   "source": [
    "import sys\n",
    "\n",
    "def main():\n",
    "    f = [x for x in range(1,10)]\n",
    "    print(f)\n",
    "    f = [x+y for x in 'abc' for y in '123455']\n",
    "    print(f)\n",
    "    # 用列表的生成表达式语法创建列表容器\n",
    "    # 用这种语法创建列表后元素已经准备就绪，所以需要耗费较多空间\n",
    "    f = [x**2 for x in range(1,1000)]\n",
    "    print(sys.getsizeof(f))\n",
    "    print(f)\n",
    "    \n",
    "    #下面的代码创建的不是一个列表而是一个生成器对象\n",
    "    #通过生成器可以获取到数据但它不占用额外的空间存储数据\n",
    "    #每次需要数据的时候就通过内部的运算得到数据（需要花费额外的时间）\n",
    "    f  = (x**2 for x in range(1,1000))\n",
    "    print(sys.getsizeof(f))\n",
    "    print(f)\n",
    "    \n",
    "    \n",
    "    \n",
    "    \n",
    "if __name__ == '__main__':\n",
    "    main()"
   ]
  },
  {
   "cell_type": "code",
   "execution_count": 14,
   "metadata": {},
   "outputs": [
    {
     "name": "stdout",
     "output_type": "stream",
     "text": [
      "1 1 2 3 5 8 13 21 34 55 89 144 233 377 610 987 1597 2584 4181 6765 "
     ]
    }
   ],
   "source": [
    "# 菲波那切数列\n",
    "def fib(n):\n",
    "    a,b = 0,1\n",
    "    for _ in range(n):\n",
    "        a, b = b, a+b\n",
    "        yield a\n",
    "        \n",
    "def main():\n",
    "    for val in fib(20):\n",
    "        print(val,end=' ')\n",
    "        \n",
    "if __name__ == '__main__':\n",
    "    main()"
   ]
  },
  {
   "cell_type": "code",
   "execution_count": 15,
   "metadata": {},
   "outputs": [
    {
     "name": "stdout",
     "output_type": "stream",
     "text": [
      "('骆昊', 38, True, '四川成都')\n",
      "骆昊\n",
      "四川成都\n",
      "骆昊\n",
      "38\n",
      "True\n",
      "四川成都\n",
      "('王大锤', 20, True, '云南昆明')\n",
      "['王大锤', 20, True, '云南昆明']\n",
      "['李小龙', 25, True, '云南昆明']\n",
      "('apple', 'banana', 'orange')\n"
     ]
    }
   ],
   "source": [
    "def main():\n",
    "    # 定义元组\n",
    "    t = ('骆昊', 38, True, '四川成都')\n",
    "    print(t)\n",
    "    # 获取元组中的元素\n",
    "    print(t[0])\n",
    "    print(t[3])\n",
    "    # 遍历元组中的值\n",
    "    for member in t:\n",
    "        print(member)\n",
    "    # 重新给元组赋值\n",
    "    # t[0] = '王大锤'  # TypeError\n",
    "    # 变量t重新引用了新的元组原来的元组将被垃圾回收\n",
    "    t = ('王大锤', 20, True, '云南昆明')\n",
    "    print(t)\n",
    "    # 将元组转换成列表\n",
    "    person = list(t)\n",
    "    print(person)\n",
    "    # 列表是可以修改它的元素的\n",
    "    person[0] = '李小龙'\n",
    "    person[1] = 25\n",
    "    print(person)\n",
    "    # 将列表转换成元组\n",
    "    fruits_list = ['apple', 'banana', 'orange']\n",
    "    fruits_tuple = tuple(fruits_list)\n",
    "    print(fruits_tuple)\n",
    "\n",
    "\n",
    "if __name__ == '__main__':\n",
    "    main()"
   ]
  },
  {
   "cell_type": "code",
   "execution_count": 20,
   "metadata": {},
   "outputs": [
    {
     "name": "stdout",
     "output_type": "stream",
     "text": [
      "{1, 2, 3, 4, 5}\n",
      "5\n",
      "{1, 2, 3, 4, 5, 6, 7, 8, 9}\n",
      "{1, 2, 3, 4, 5}\n",
      "{1, 2, 3, 4, 5, 6, 7, 8, 9, 11, 12}\n",
      "{1, 2, 3, 6, 7, 8, 9, 11, 12}\n",
      "1\n",
      "{2, 3, 4}\n",
      "{1, 2, 3}\n",
      "{1, 2, 3, 4, 5, 6, 7, 8, 9, 11, 12}\n",
      "{4, 5}\n",
      "{4, 5, 6, 7, 8, 9, 11, 12}\n"
     ]
    }
   ],
   "source": [
    "# 集合\n",
    "def main():\n",
    "    set1 = {1, 2, 3, 3, 4, 5}\n",
    "    print(set1)\n",
    "    print(len(set1))\n",
    "    \n",
    "    set2 = set(range(1,10))\n",
    "    print(set2)\n",
    "    set1.add(4)\n",
    "    set1.add(5)\n",
    "    set2.update([11,12])\n",
    "    print(set1)\n",
    "    print(set2)\n",
    "    set2.discard(5)\n",
    "    if 4 in set2:\n",
    "        set2.remove(4)\n",
    "    print(set2)\n",
    "    \n",
    "    # 将元组转换成集合\n",
    "    set3 = set((1,2,3,4,2,1))\n",
    "    print(set3.pop())\n",
    "    print(set3)\n",
    "    \n",
    "    # 集合的交集、并集、差集、对称差运算\n",
    "    print(set1 & set2)\n",
    "    print(set1 | set2)\n",
    "    print(set1 - set2)\n",
    "    print(set1 ^ set2)\n",
    "if __name__ == '__main__':\n",
    "    main()"
   ]
  },
  {
   "cell_type": "code",
   "execution_count": 47,
   "metadata": {},
   "outputs": [
    {
     "name": "stdout",
     "output_type": "stream",
     "text": [
      "78\n",
      "82\n",
      "毛老娘-->98\n",
      "爱元素-->78\n",
      "狄仁杰-->82\n",
      "{'毛老娘': 98, '爱元素': 65, '狄仁杰': 82, '诸葛哇': 77, '热诺': 89, '护具': 77}\n",
      "None\n",
      "60\n",
      "('护具', 77)\n",
      "('热诺', 89)\n",
      "{}\n"
     ]
    }
   ],
   "source": [
    "# 字典\n",
    "def main():\n",
    "    score = {'毛老娘': 98, '爱元素': 78, '狄仁杰': 82}\n",
    "    print(score['爱元素'])\n",
    "    print(score['狄仁杰'])\n",
    "    for elem in score:\n",
    "        print(f'{elem}-->{score[elem]}')\n",
    "\n",
    "    # 更新字典中的元素\n",
    "    score['爱元素'] = 65\n",
    "    score['诸葛哇'] = 77\n",
    "    score.update(热诺=89, 护具=77)\n",
    "    print(score)\n",
    "    if '武则天' in score:\n",
    "        print(score['武则天'])\n",
    "    print(score.get('武则天'))\n",
    "    # get方法也是通过键获取对应的值但是可以设置默认值\n",
    "    print(score.get('武则天', 60))\n",
    "    \n",
    "    # 删除字典中的元素\n",
    "    print(score.popitem())\n",
    "    print(score.popitem())\n",
    "    score.clear()\n",
    "    print(score)\n",
    "\n",
    "if __name__ == '__main__':\n",
    "        main()"
   ]
  },
  {
   "cell_type": "code",
   "execution_count": 1,
   "metadata": {},
   "outputs": [
    {
     "name": "stdout",
     "output_type": "stream",
     "text": [
      "在平坦的路面曲折前行.....\n",
      "平坦的路面曲折前行.....在\n",
      "坦的路面曲折前行.....在平\n",
      "的路面曲折前行.....在平坦\n",
      "路面曲折前行.....在平坦的\n",
      "面曲折前行.....在平坦的路\n",
      "曲折前行.....在平坦的路面\n",
      "折前行.....在平坦的路面曲\n",
      "前行.....在平坦的路面曲折\n",
      "行.....在平坦的路面曲折前\n"
     ]
    }
   ],
   "source": [
    "# 屏幕上显示跑马灯文字\n",
    "import time\n",
    "import os\n",
    "\n",
    "def main():\n",
    "    content = '在平坦的路面曲折前行.....'\n",
    "    sum = 0\n",
    "    while True:\n",
    "        # 清理屏幕上的输出\n",
    "        os.system('clear')\n",
    "        print(content)\n",
    "        time.sleep(0.2)\n",
    "        content = content[1:] + content[0]\n",
    "        sum = sum + 1\n",
    "        if sum == 10:\n",
    "            break\n",
    "        \n",
    "if __name__ == '__main__':\n",
    "    main()"
   ]
  },
  {
   "cell_type": "code",
   "execution_count": 14,
   "metadata": {},
   "outputs": [
    {
     "data": {
      "text/plain": [
       "'1okn'"
      ]
     },
     "execution_count": 14,
     "metadata": {},
     "output_type": "execute_result"
    }
   ],
   "source": [
    "# 设计一个函数产生指定长度的验证码，验证码由大小写字母和数字构成。\n",
    "import random\n",
    "def generate_code(code_len=4):\n",
    "    all_chars = '0123456789abcdefghijklmnopqrstuvwxyzABCDEFGHIJKLMNOPQRSTUVWXYZ'\n",
    "    #len_pos = len(all_chars)\n",
    "    code = ''\n",
    "    for i in range(code_len):\n",
    "        index = random.randint(0,len(all_chars)-1)\n",
    "        code += all_chars[index]\n",
    "    return code\n",
    "generate_code(4)"
   ]
  },
  {
   "cell_type": "code",
   "execution_count": 21,
   "metadata": {},
   "outputs": [
    {
     "data": {
      "text/plain": [
       "'.jhj'"
      ]
     },
     "execution_count": 21,
     "metadata": {},
     "output_type": "execute_result"
    }
   ],
   "source": [
    "#设计一个函数返回给定文件名的后缀名。\n",
    "def get_suffix(filename, has_dot=False):\n",
    "    '''\n",
    "    获取文件后缀名\n",
    "    :param filename:文件名\n",
    "    :param has_dot:返回的后缀是否包括点\n",
    "    '''\n",
    "    pos = filename.rfind('.')\n",
    "    if 0 < pos <len(filename):\n",
    "        index = pos if has_dot else pos+1\n",
    "        return filename[index:]\n",
    "    else:\n",
    "        return ''\n",
    "get_suffix('hjkio.jhj',True)"
   ]
  },
  {
   "cell_type": "code",
   "execution_count": 24,
   "metadata": {},
   "outputs": [
    {
     "data": {
      "text/plain": [
       "(78, 65)"
      ]
     },
     "execution_count": 24,
     "metadata": {},
     "output_type": "execute_result"
    }
   ],
   "source": [
    "#设计一个函数返回传入的列表中最大和第二大的元素的值。\n",
    "def max_two(l):\n",
    "    m1,m2 = (l[0],l[1]) if l[0] > l[1] else (l[1],l[0])\n",
    "    for i in range(2,len(l)):\n",
    "        if l[i] > m1:\n",
    "            m2 = m1\n",
    "            m1 = l[i]\n",
    "        elif l[i] > m2:\n",
    "            m2 = l[i]\n",
    "    return m1,m2\n",
    "max_two([1,4,56,78,3,65,3])"
   ]
  },
  {
   "cell_type": "code",
   "execution_count": 30,
   "metadata": {},
   "outputs": [
    {
     "name": "stdout",
     "output_type": "stream",
     "text": [
      "2018.10.21是这一年的第294天\n",
      "2019.7.11是这一年的第192天\n"
     ]
    }
   ],
   "source": [
    "# 计算指定的年月日是这一年的第几天\n",
    "def is_leap_year(year):\n",
    "    '''\n",
    "    判断闰年\n",
    "    :param year:年份\n",
    "    '''\n",
    "    return year%4==0 and year%100!=0 or year%400 == 0\n",
    "\n",
    "\n",
    "def which_day(year,month,day):\n",
    "    '''\n",
    "    计算传入的日期是一年中的第几天\n",
    "    :param year:年份\n",
    "    :param month:月份\n",
    "    :param day:日期\n",
    "    :return 闰年为TRUE，平年为FALSE\n",
    "    '''\n",
    "    days_of_month = [[31,28,31,30,31,30,31,31,30,31,30,31], \n",
    "                     [31,29,31,30,31,30,31,31,30,31,30,31]\n",
    "                    ][is_leap_year(year)]\n",
    "    total = 0\n",
    "    for i in range(month-1):\n",
    "        total += days_of_month[i]\n",
    "    return total+day\n",
    "\n",
    "def main():\n",
    "    print(f'2018.10.21是这一年的第{which_day(2018,10,21)}天')\n",
    "    print(f'2019.7.11是这一年的第{which_day(2019,7,11)}天')\n",
    "    \n",
    "if __name__ == '__main__':\n",
    "    main()\n",
    "    "
   ]
  },
  {
   "cell_type": "code",
   "execution_count": 32,
   "metadata": {},
   "outputs": [
    {
     "name": "stdout",
     "output_type": "stream",
     "text": [
      "[1]\n",
      "[1, 1]\n",
      "[1, 2, 1]\n",
      "[1, 3, 3, 1]\n",
      "[1, 4, 6, 4, 1]\n",
      "[1, 5, 10, 10, 5, 1]\n",
      "[1, 6, 15, 20, 15, 6, 1]\n",
      "[1, 7, 21, 35, 35, 21, 7, 1]\n",
      "[1, 8, 28, 56, 70, 56, 28, 8, 1]\n",
      "[1, 9, 36, 84, 126, 126, 84, 36, 9, 1]\n"
     ]
    }
   ],
   "source": [
    "# 画杨辉三角\n",
    "def triangles():\n",
    "    L = [1]\n",
    "    S = []\n",
    "    while True:\n",
    "        yield L \n",
    "        L = [1] + S + [1]\n",
    "        S = []\n",
    "        for i in range(len(L)-1):\n",
    "            S.append(L[i] + L[i+1])\n",
    "\n",
    "if __name__ == '__main__':\n",
    "    n = 0\n",
    "    for i in triangles():\n",
    "        print(i)\n",
    "        n = n+1\n",
    "        if n == 10:\n",
    "            break"
   ]
  },
  {
   "cell_type": "code",
   "execution_count": 36,
   "metadata": {},
   "outputs": [
    {
     "name": "stdin",
     "output_type": "stream",
     "text": [
      "您要选几注： 2\n"
     ]
    },
    {
     "name": "stdout",
     "output_type": "stream",
     "text": [
      "0--3\n",
      "1--5\n",
      "2--9\n",
      "3--11\n",
      "4--13\n",
      "5--31\n",
      "6--16\n",
      "******************\n",
      "0--7\n",
      "1--19\n",
      "2--23\n",
      "3--25\n",
      "4--26\n",
      "5--30\n",
      "6--1\n",
      "******************\n"
     ]
    }
   ],
   "source": [
    "# 双色球选号\n",
    "from random import sample,randint\n",
    "\n",
    "def random_select():\n",
    "    '''\n",
    "    选择一组号\n",
    "    '''\n",
    "    red_ball = [x for x in range(1,33)]\n",
    "    select_ball = []\n",
    "    select_ball = sample(red_ball,6)\n",
    "    select_ball.sort()\n",
    "    select_ball.append(randint(1,16))\n",
    "    return select_ball\n",
    "        \n",
    "\n",
    "def your_choose(ball_list):\n",
    "    '''\n",
    "    输出双色球号码\n",
    "    '''\n",
    "    for index,element in enumerate(ball_list):\n",
    "        print(f'{index}--{element}')\n",
    "\n",
    "def main():\n",
    "    '''\n",
    "    选几注\n",
    "    '''\n",
    "    n = int(input('您要选几注：'))\n",
    "    for _ in range(n):\n",
    "        your_choose(random_select())\n",
    "        print('*'*18)\n",
    "\n",
    "if __name__ == '__main__':\n",
    "    main()"
   ]
  },
  {
   "cell_type": "code",
   "execution_count": 40,
   "metadata": {},
   "outputs": [
    {
     "name": "stdout",
     "output_type": "stream",
     "text": [
      "基督徒 基督徒 基督徒 基督徒 feiji feiji feiji feiji feiji 基督徒 feiji feiji 基督徒 基督徒 基督徒 feiji 基督徒 feiji feiji 基督徒 基督徒 feiji feiji feiji 基督徒 feiji feiji 基督徒 基督徒 feiji "
     ]
    }
   ],
   "source": [
    "\"\"\"\n",
    "《幸运的基督徒》\n",
    "有15个基督徒和15个非基督徒在海上遇险，为了能让一部分人活下来不得不将其中15个人扔到海里面去，\n",
    "有个人想了个办法就是大家围成一个圈，由某个人开始从1报数，报到9的人就扔到海里面，\n",
    "他后面的人接着从1开始报数，报到9的人继续扔到海里面，直到扔掉15个人。\n",
    "由于上帝的保佑，15个基督徒都幸免于难，\n",
    "问这些人最开始是怎么站的，哪些位置是基督徒哪些位置是非基督徒。\n",
    "\"\"\"\n",
    "def main():\n",
    "    '''\n",
    "    :number 扔掉的人数\n",
    "    :counter 报数\n",
    "    :index 索引\n",
    "    :persons[index] = True 表示活着\n",
    "    '''\n",
    "    persons = [True]*30\n",
    "    number,counter,index = 0,0,0\n",
    "    while number<16:\n",
    "        if persons[index]:\n",
    "            counter+=1\n",
    "            if counter == 9:\n",
    "                persons[index]=False\n",
    "                number+=1\n",
    "                counter = 0\n",
    "        index += 1\n",
    "        index %= 30\n",
    "    for person in persons:\n",
    "        print('基督徒' if person else 'feiji', end=' ')\n",
    "        \n",
    "if __name__ == '__main__':\n",
    "    main()\n",
    "        "
   ]
  },
  {
   "cell_type": "code",
   "execution_count": 52,
   "metadata": {},
   "outputs": [
    {
     "name": "stdout",
     "output_type": "stream",
     "text": [
      "out:3\n",
      "out:6\n",
      "out:4\n",
      "out:2\n",
      "out:5\n",
      "win:1\n"
     ]
    }
   ],
   "source": [
    "# 约瑟夫环问题\n",
    "'''\n",
    "约瑟夫问题是一个有趣的数学游戏，游戏规则如下：\n",
    "\n",
    "1、N个人围成一个圈，编号从1开始，依次到N。\n",
    "\n",
    "2、编号为M的游戏参与者开始报数，报数从1开始，后面的人报数接龙，直到K为止，报数为K的人将出局。\n",
    "\n",
    "3、出局者的下一个玩家接着从1开始报数，如此循环，直到剩下一个玩家时游戏结束，这个玩家就是游戏获胜者。\n",
    "\n",
    "那么问题来了，哪个编号是游戏获胜者呢？\n",
    "\n",
    "思路：循环删除m+k-1的人即可\n",
    "'''\n",
    "def joseph(n,m,k):\n",
    "    queue = [x for x in range(1,n+1)]\n",
    "    count = m-1\n",
    "    for i in range(0,n):\n",
    "        if len(queue)>1:\n",
    "            count = (count+k-1)%len(queue)\n",
    "            print(f'out:{queue[count]}')\n",
    "            del queue[count]\n",
    "        else:\n",
    "            print(f'win:{queue[0]}')\n",
    "\n",
    "if __name__ == '__main__':\n",
    "    joseph(6,1,3)\n"
   ]
  },
  {
   "cell_type": "code",
   "execution_count": null,
   "metadata": {},
   "outputs": [],
   "source": [
    "import os\n",
    "\n",
    "\n",
    "def print_board(board):\n",
    "    print(board['TL'] + '|' + board['TM'] + '|' + board['TR'])\n",
    "    print('-+-+-')\n",
    "    print(board['ML'] + '|' + board['MM'] + '|' + board['MR'])\n",
    "    print('-+-+-')\n",
    "    print(board['BL'] + '|' + board['BM'] + '|' + board['BR'])\n",
    "\n",
    "\n",
    "def main():\n",
    "    init_board = {\n",
    "        'TL': ' ', 'TM': ' ', 'TR': ' ',\n",
    "        'ML': ' ', 'MM': ' ', 'MR': ' ',\n",
    "        'BL': ' ', 'BM': ' ', 'BR': ' '\n",
    "    }\n",
    "    begin = True\n",
    "    while begin:\n",
    "        curr_board = init_board.copy()\n",
    "        begin = False\n",
    "        turn = 'x'\n",
    "        counter = 0\n",
    "        os.system('clear')\n",
    "        print_board(curr_board)\n",
    "       \n",
    "        while counter < 9:\n",
    "            move = input('轮到%s走棋, 请输入位置: ' % turn)\n",
    "            if curr_board[move] == ' ':\n",
    "                counter += 1\n",
    "                curr_board[move] = turn\n",
    "                if turn == 'x':\n",
    "                    turn = 'o'\n",
    "                else:\n",
    "                    turn = 'x'\n",
    "            os.system('clear')\n",
    "            print_board(curr_board)\n",
    "        choice = input('再玩一局?(yes|no)')\n",
    "        begin = choice == 'yes'\n",
    "        \n",
    "\n",
    "\n",
    "if __name__ == '__main__':\n",
    "    main()"
   ]
  },
  {
   "cell_type": "code",
   "execution_count": null,
   "metadata": {},
   "outputs": [
    {
     "name": "stdout",
     "output_type": "stream",
     "text": [
      " | | \n",
      "-+-+-\n",
      " | | \n",
      "-+-+-\n",
      " | | \n",
      "Turn for X. Move on which space?\n"
     ]
    },
    {
     "name": "stdin",
     "output_type": "stream",
     "text": [
      " top-M\n"
     ]
    },
    {
     "name": "stdout",
     "output_type": "stream",
     "text": [
      " |X| \n",
      "-+-+-\n",
      " | | \n",
      "-+-+-\n",
      " | | \n",
      "Turn for O. Move on which space?\n"
     ]
    },
    {
     "name": "stdin",
     "output_type": "stream",
     "text": [
      " mid-M\n"
     ]
    },
    {
     "name": "stdout",
     "output_type": "stream",
     "text": [
      " |X| \n",
      "-+-+-\n",
      " |O| \n",
      "-+-+-\n",
      " | | \n",
      "Turn for X. Move on which space?\n"
     ]
    },
    {
     "name": "stdin",
     "output_type": "stream",
     "text": [
      " top-L\n"
     ]
    },
    {
     "name": "stdout",
     "output_type": "stream",
     "text": [
      "X|X| \n",
      "-+-+-\n",
      " |O| \n",
      "-+-+-\n",
      " | | \n",
      "Turn for O. Move on which space?\n"
     ]
    },
    {
     "name": "stdin",
     "output_type": "stream",
     "text": [
      " mid_L\n"
     ]
    },
    {
     "name": "stdout",
     "output_type": "stream",
     "text": [
      "X|X| \n",
      "-+-+-\n",
      " |O| \n",
      "-+-+-\n",
      " | | \n",
      "Turn for X. Move on which space?\n"
     ]
    },
    {
     "name": "stdin",
     "output_type": "stream",
     "text": [
      " top-R\n"
     ]
    },
    {
     "name": "stdout",
     "output_type": "stream",
     "text": [
      "X|X|X\n",
      "-+-+-\n",
      " |O| \n",
      "-+-+-\n",
      " | | \n",
      "Turn for O. Move on which space?\n"
     ]
    }
   ],
   "source": [
    "theBoard = {'top-L': ' ', 'top-M': ' ', 'top-R': ' ', 'mid-L': ' ', 'mid-M': ' ', 'mid-R': ' ', 'low-L': ' ', 'low-M': ' ', 'low-R': ' '}\n",
    "\n",
    "def printBoard(board):\n",
    "    print(board['top-L'] + '|' + board['top-M'] + '|' + board['top-R'])\n",
    "    print('-+-+-')\n",
    "    print(board['mid-L'] + '|' + board['mid-M'] + '|' + board['mid-R'])\n",
    "    print('-+-+-')\n",
    "    print(board['low-L'] + '|' + board['low-M'] + '|' + board['low-R'])\n",
    "\n",
    "turn = 'X'\n",
    "for i in range(9):\n",
    "    printBoard(theBoard)\n",
    "    print('Turn for ' + turn + '. Move on which space?')\n",
    "    move = input()\n",
    "    theBoard[move] = turn\n",
    "    if turn == 'X':\n",
    "        turn = 'O'\n",
    "    else:\n",
    "        turn = 'X'\n",
    "printBoard(theBoard)"
   ]
  }
 ],
 "metadata": {
  "kernelspec": {
   "display_name": "Python 3",
   "language": "python",
   "name": "python3"
  },
  "language_info": {
   "codemirror_mode": {
    "name": "ipython",
    "version": 3
   },
   "file_extension": ".py",
   "mimetype": "text/x-python",
   "name": "python",
   "nbconvert_exporter": "python",
   "pygments_lexer": "ipython3",
   "version": "3.7.0"
  }
 },
 "nbformat": 4,
 "nbformat_minor": 2
}
