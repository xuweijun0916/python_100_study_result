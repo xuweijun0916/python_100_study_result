{
 "cells": [
  {
   "cell_type": "code",
   "execution_count": 2,
   "metadata": {},
   "outputs": [
    {
     "name": "stdin",
     "output_type": "stream",
     "text": [
      "请输入用户名: sjuuop_\n",
      "请输入QQ号: 280880\n"
     ]
    },
    {
     "name": "stdout",
     "output_type": "stream",
     "text": [
      "你输入的信息是有效的!\n"
     ]
    }
   ],
   "source": [
    "# 验证输入用户名和QQ号是否有效并给出对应的提示信息\n",
    "\"\"\"\n",
    "要求：用户名必须由字母、数字或下划线构成且长度在6~20\n",
    "个字符之间，QQ号是5~12的数字且首位不能为0\n",
    "\"\"\"\n",
    "import re\n",
    "\n",
    "def main():\n",
    "    username = input('请输入用户名:')\n",
    "    qq = input('请输入QQ号:')\n",
    "    # match函数的第一个参数是正则表达式或正则表达式对象\n",
    "    # 第二个参数是要跟正则表达式做匹配的字符串对象\n",
    "    m1 = re.match(r'^[0-9a-zA-Z_]{6,20}$',username)\n",
    "    if not m1:\n",
    "        print('请输入有效的用户名.')\n",
    "    m2 = re.match(r'^[1-9]\\d{4,11}$',qq)\n",
    "    if not m2:\n",
    "        print('请输入有效的QQ号.')\n",
    "    if m1 and m2:\n",
    "        print('你输入的信息是有效的!')\n",
    "    \n",
    "if __name__ == '__main__':\n",
    "    main()"
   ]
  },
  {
   "cell_type": "code",
   "execution_count": 3,
   "metadata": {},
   "outputs": [
    {
     "name": "stdout",
     "output_type": "stream",
     "text": [
      "['13512346789', '15600998765', '15600998765']\n",
      "----分割线----\n",
      "13512346789\n",
      "15600998765\n",
      "15600998765\n",
      "----华丽的分割线----\n",
      "13512346789\n",
      "15600998765\n",
      "15600998765\n"
     ]
    }
   ],
   "source": [
    "# 从一段文字中提取出国内手机号码\n",
    "import re\n",
    "\n",
    "def main():\n",
    "    # 创建正则表达式对象，使用了前瞻和回顾来保证手机号前后不应该出现数字\n",
    "    pattern = re.compile(r'(?<=\\D)1[34578]\\d{9}(?=\\D)')\n",
    "    sentence = '''\n",
    "    重要的事情说8130123456789遍，我的手机号是13512346789这个靓号，\n",
    "    不是15600998765，也是110或119，王大锤的手机号码才是15600998765.\n",
    "    '''\n",
    "    # 查找所有匹配并保存到一个列表中\n",
    "    mylist = re.findall(pattern,sentence)\n",
    "    print(mylist)\n",
    "    print('----分割线----')\n",
    "    # 通过迭代器取出匹配对象并获得匹配的内容\n",
    "    for temp in pattern.finditer(sentence):\n",
    "        print(temp.group())\n",
    "    print('----华丽的分割线----')\n",
    "    # 通过search函数指定搜索位置找出所有匹配\n",
    "    m = pattern.search(sentence)\n",
    "    while m:\n",
    "        print(m.group())\n",
    "        m = pattern.search(sentence,m.end())\n",
    "        \n",
    "if __name__ == '__main__':\n",
    "    main()"
   ]
  },
  {
   "cell_type": "code",
   "execution_count": 4,
   "metadata": {},
   "outputs": [
    {
     "name": "stdout",
     "output_type": "stream",
     "text": [
      "你丫是*吗？我*你大爷的.* you.\n"
     ]
    }
   ],
   "source": [
    "# 替换字符串中的不良内容\n",
    "import re\n",
    "\n",
    "def main():\n",
    "    sentence = '你丫是傻叉吗？我操你大爷的.Fuck you.'\n",
    "    purified = re.sub('[操肏艹]|fuck|shit|傻[比屄逼叉缺吊屌]|煞笔',\n",
    "                     '*',sentence,flags=re.IGNORECASE)\n",
    "    print(purified) # 你丫是*吗？我*你大爷的。*you.\n",
    "    \n",
    "if __name__ == '__main__':\n",
    "    main()"
   ]
  },
  {
   "cell_type": "code",
   "execution_count": 7,
   "metadata": {},
   "outputs": [
    {
     "name": "stdout",
     "output_type": "stream",
     "text": [
      "['窗前明月光', '疑是地上霜', '举头望明月', '低头思故乡']\n"
     ]
    }
   ],
   "source": [
    "# 拆分长字符串\n",
    "import re\n",
    "\n",
    "def main():\n",
    "    poem = '窗前明月光，疑是地上霜。举头望明月，低头思故乡。'\n",
    "    sentence_list = re.split(r'[,。，.]',poem)\n",
    "    while '' in sentence_list:\n",
    "        sentence_list.remove('')\n",
    "    print(sentence_list)\n",
    "\n",
    "if __name__ == '__main__':\n",
    "    main()"
   ]
  }
 ],
 "metadata": {
  "kernelspec": {
   "display_name": "Python 3",
   "language": "python",
   "name": "python3"
  },
  "language_info": {
   "codemirror_mode": {
    "name": "ipython",
    "version": 3
   },
   "file_extension": ".py",
   "mimetype": "text/x-python",
   "name": "python",
   "nbconvert_exporter": "python",
   "pygments_lexer": "ipython3",
   "version": "3.7.0"
  }
 },
 "nbformat": 4,
 "nbformat_minor": 2
}
