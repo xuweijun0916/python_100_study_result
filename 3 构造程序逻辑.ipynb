{
 "cells": [
  {
   "cell_type": "code",
   "execution_count": 3,
   "metadata": {},
   "outputs": [
    {
     "name": "stdout",
     "output_type": "stream",
     "text": [
      "153是水仙花数\n",
      "370是水仙花数\n",
      "371是水仙花数\n",
      "407是水仙花数\n"
     ]
    }
   ],
   "source": [
    "# 寻找水仙花数，水仙花数是指一个 3 位数，它的每个位上的数字的 3次幂之和等于它本身\n",
    "for i in range(100,1000):\n",
    "    a = int(i/100)\n",
    "    b = int((i%100)/10)\n",
    "    c = int(i%10)\n",
    "    if pow(a,3)+pow(b,3)+pow(c,3) == i:\n",
    "        print(f'{i}是水仙花数')"
   ]
  },
  {
   "cell_type": "code",
   "execution_count": 11,
   "metadata": {},
   "outputs": [
    {
     "name": "stdout",
     "output_type": "stream",
     "text": [
      "6是完美数\n",
      "28是完美数\n",
      "496是完美数\n"
     ]
    }
   ],
   "source": [
    "# 寻找完美数，完美数指它所有的真因子（即除了自身以外的约数）的和（即因子函数），恰好等于它本身。\n",
    "\n",
    "for i in range(1,1001):\n",
    "    sum = 0\n",
    "    for j in range(1,i):\n",
    "        if i%j == 0:\n",
    "            sum += j\n",
    "    if i == sum:\n",
    "        print(f\"{i}是完美数\")"
   ]
  },
  {
   "cell_type": "code",
   "execution_count": 16,
   "metadata": {},
   "outputs": [
    {
     "name": "stdout",
     "output_type": "stream",
     "text": [
      "公鸡:4,母鸡:18,小鸡:78\n",
      "公鸡:8,母鸡:11,小鸡:81\n",
      "公鸡:12,母鸡:4,小鸡:84\n"
     ]
    }
   ],
   "source": [
    "# 百鸡百钱，鸡翁一值钱五，鸡母一值钱三，鸡雏三值钱一。百钱买百鸡，问鸡翁、鸡母、鸡雏各几何？\n",
    "for x in range(1,100):\n",
    "    for y in range(1,100):\n",
    "        z = 100-x-y\n",
    "        if x*5+y*3+z/3 == 100 and z%3 == 0:\n",
    "            print(f\"公鸡:{x},母鸡:{y},小鸡:{z}\")\n"
   ]
  },
  {
   "cell_type": "code",
   "execution_count": 18,
   "metadata": {},
   "outputs": [
    {
     "name": "stdout",
     "output_type": "stream",
     "text": [
      "1\n",
      "1\n",
      "2\n",
      "3\n"
     ]
    }
   ],
   "source": [
    "# 生成菲波那切数列，斐波纳契数列以如下被以递推的方法定义：F(1)=1，F(2)=1, F(n)=F(n-1)+F(n-2)（n>=3，n∈N*）\n",
    "def fib(i):\n",
    "    a,b = 1,1\n",
    "    while a<i:\n",
    "        print(a)\n",
    "        a,b = b,a+b\n",
    "fib(5)"
   ]
  }
 ],
 "metadata": {
  "kernelspec": {
   "display_name": "Python 3",
   "language": "python",
   "name": "python3"
  },
  "language_info": {
   "codemirror_mode": {
    "name": "ipython",
    "version": 3
   },
   "file_extension": ".py",
   "mimetype": "text/x-python",
   "name": "python",
   "nbconvert_exporter": "python",
   "pygments_lexer": "ipython3",
   "version": "3.7.0"
  }
 },
 "nbformat": 4,
 "nbformat_minor": 2
}
